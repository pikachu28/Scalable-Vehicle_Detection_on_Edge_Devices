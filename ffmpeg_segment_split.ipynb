{
 "cells": [
  {
   "cell_type": "code",
   "execution_count": 1,
   "metadata": {},
   "outputs": [],
   "source": [
    "# Please keep the format of the file as segX.mp4"
   ]
  },
  {
   "cell_type": "markdown",
   "metadata": {},
   "source": [
    "### Run this Command to generate segments\n",
    "\n",
    "#### ffmpeg -i output.mp4 -c copy -segment_time 1 -f segment seg%d.mp4\n"
   ]
  },
  {
   "cell_type": "code",
   "execution_count": 1,
   "metadata": {},
   "outputs": [
    {
     "name": "stdout",
     "output_type": "stream",
     "text": [
      "Enter the name of the segment fileseg14.mp4\n"
     ]
    }
   ],
   "source": [
    "video = input(\"Enter the name of the segment file\")"
   ]
  },
  {
   "cell_type": "code",
   "execution_count": 2,
   "metadata": {},
   "outputs": [
    {
     "name": "stdout",
     "output_type": "stream",
     "text": [
      "seg14.txt\n",
      "[14]\n",
      "14\n"
     ]
    }
   ],
   "source": [
    "X = video.split('.')\n",
    "\n",
    "file = X[0]+'.txt'\n",
    "print(file)\n",
    "\n",
    "import re\n",
    "temp = re.findall(r'\\d+', X[0])\n",
    "res = list(map(int, temp))\n",
    "print(res)\n",
    "\n",
    "X = res[0]\n",
    "print(X)"
   ]
  },
  {
   "cell_type": "code",
   "execution_count": 3,
   "metadata": {},
   "outputs": [
    {
     "name": "stdout",
     "output_type": "stream",
     "text": [
      "{0: [0, 320, 0, 180, False], 1: [320, 640, 0, 180, False], 2: [640, 960, 0, 180, False], 3: [960, 1280, 0, 180, False], 4: [0, 320, 180, 360, False], 5: [320, 640, 180, 360, False], 6: [640, 960, 180, 360, False], 7: [960, 1280, 180, 360, False], 8: [0, 320, 360, 540, False], 9: [320, 640, 360, 540, False], 10: [640, 960, 360, 540, False], 11: [960, 1280, 360, 540, False], 15: [0, 320, 540, 720, False], 14: [320, 640, 540, 720, False], 13: [640, 960, 540, 720, False], 12: [960, 1280, 540, 720, False]}\n"
     ]
    }
   ],
   "source": [
    "detect = dict()\n",
    "\n",
    "# i=15\n",
    "# x1=320\n",
    "# y1=180\n",
    "# x2, y2=0, 0\n",
    "\n",
    "# for i in range(15, -1, -1):\n",
    "#     if (i+1)%4==0 and i+1 is not 16:\n",
    "#         y1 = y1+180\n",
    "#         y2 = y2+180\n",
    "#         x1 = 320\n",
    "#         x2 = 0\n",
    "#     detect[i] = [x1, y1,x2, y2, False]\n",
    "#     x1 = x1+320\n",
    "#     x2 = x2+320\n",
    "#     #i = i-1\n",
    "    \n",
    "# print(detect)\n",
    "\n",
    "detect = {\n",
    "    0: [0, 320, 0, 180, False],\n",
    "    1: [320, 640, 0, 180, False],\n",
    "    2: [640, 960, 0, 180, False],\n",
    "    3: [960, 1280, 0, 180, False],\n",
    "    4: [0, 320, 180, 360, False],\n",
    "    5: [320, 640, 180, 360, False],\n",
    "    6: [640, 960, 180, 360, False],\n",
    "    7: [960, 1280, 180, 360, False],\n",
    "    8: [0, 320, 360, 540, False],\n",
    "    9: [320, 640, 360, 540, False],\n",
    "    10: [640, 960, 360, 540, False],\n",
    "    11: [960, 1280, 360, 540, False],\n",
    "    15: [0, 320, 540, 720, False],\n",
    "    14: [320, 640, 540, 720, False],\n",
    "    13: [640, 960, 540, 720, False],\n",
    "    12: [960, 1280, 540, 720, False],\n",
    "}\n",
    "\n",
    "print(detect)"
   ]
  },
  {
   "cell_type": "code",
   "execution_count": 6,
   "metadata": {},
   "outputs": [],
   "source": [
    "i = 15\n",
    "line = []\n",
    "\n",
    "with open(\"tiny-yolo/experiment/\"+file) as f:\n",
    "    line = f.readlines()\n",
    "\n",
    "\n",
    "\n",
    "for x in line:\n",
    "    x = x.split(' ')[:4]\n",
    "    points = [[x[0], x[2]], [x[1], x[2]], [x[0], x[3]], [x[1], x[3]]]\n",
    "    #print(x)\n",
    "    for d in detect:\n",
    "        #print(d)\n",
    "        for p in points:\n",
    "            x, y = int(p[0]), int(p[1])\n",
    "#             if d==14:\n",
    "#                 print(x, y)\n",
    "            if (x>=detect[d][0] and x<=detect[d][1]) and (y>=detect[d][2] and y<=detect[d][3]):\n",
    "                detect[d][4] = True\n",
    "                if(d==14):\n",
    "                    print(x, y)\n",
    "\n",
    "\n",
    "#print(detect)"
   ]
  },
  {
   "cell_type": "code",
   "execution_count": 7,
   "metadata": {},
   "outputs": [
    {
     "name": "stdout",
     "output_type": "stream",
     "text": [
      "{0: [0, 320, 0, 180, True], 1: [320, 640, 0, 180, False], 2: [640, 960, 0, 180, True], 3: [960, 1280, 0, 180, True], 4: [0, 320, 180, 360, False], 5: [320, 640, 180, 360, True], 6: [640, 960, 180, 360, True], 7: [960, 1280, 180, 360, True], 8: [0, 320, 360, 540, False], 9: [320, 640, 360, 540, True], 10: [640, 960, 360, 540, True], 11: [960, 1280, 360, 540, True], 15: [0, 320, 540, 720, False], 14: [320, 640, 540, 720, False], 13: [640, 960, 540, 720, False], 12: [960, 1280, 540, 720, False]}\n"
     ]
    }
   ],
   "source": [
    "print(detect)"
   ]
  },
  {
   "cell_type": "code",
   "execution_count": 8,
   "metadata": {},
   "outputs": [
    {
     "name": "stdout",
     "output_type": "stream",
     "text": [
      "How long?1\n"
     ]
    }
   ],
   "source": [
    "# the box that has false is going to be dark\n",
    "\n",
    "sec = input(\"How long?\")"
   ]
  },
  {
   "cell_type": "code",
   "execution_count": 9,
   "metadata": {},
   "outputs": [
    {
     "name": "stdout",
     "output_type": "stream",
     "text": [
      "[1, 4, 8, 15, 14, 13, 12]\n"
     ]
    }
   ],
   "source": [
    "output_dark = []\n",
    "\n",
    "for d in detect:\n",
    "    if detect[d][4]==False:\n",
    "        output_dark.append(d)\n",
    "\n",
    "print(output_dark)"
   ]
  },
  {
   "cell_type": "markdown",
   "metadata": {},
   "source": [
    "### Cropping A Segment into 4X4 Grid and saving them"
   ]
  },
  {
   "cell_type": "code",
   "execution_count": 10,
   "metadata": {},
   "outputs": [
    {
     "name": "stdout",
     "output_type": "stream",
     "text": [
      "Enter the location of the directory where you want your cropped files should go/Users/anjalisingh/Desktop/Segment_2\n"
     ]
    }
   ],
   "source": [
    "loc = input(\"Enter the location of the directory where you want your cropped files should go\")"
   ]
  },
  {
   "cell_type": "code",
   "execution_count": 11,
   "metadata": {},
   "outputs": [],
   "source": [
    "import os\n",
    "\n",
    "os.mkdir(loc+'/output_seg_{0}'.format(X))"
   ]
  },
  {
   "cell_type": "markdown",
   "metadata": {},
   "source": [
    "#### Run the following generated command in your Command Prompt/Terminal\n",
    "\n",
    "\n",
    "Reference: https://video.stackexchange.com/questions/4563/how-can-i-crop-a-video-with-ffmpeg"
   ]
  },
  {
   "cell_type": "code",
   "execution_count": 46,
   "metadata": {},
   "outputs": [
    {
     "name": "stdout",
     "output_type": "stream",
     "text": [
      "ffmpeg -i seg14.mp4 -filter:v crop=320:180:0:0 output_seg_14/output14_0.mp4\n",
      "ffmpeg -i seg14.mp4 -filter:v crop=320:180:320:0 output_seg_14/output14_1.mp4\n",
      "ffmpeg -i seg14.mp4 -filter:v crop=320:180:640:0 output_seg_14/output14_2.mp4\n",
      "ffmpeg -i seg14.mp4 -filter:v crop=319:179:960:0 output_seg_14/output14_3.mp4\n",
      "ffmpeg -i seg14.mp4 -filter:v crop=320:180:0:180 output_seg_14/output14_4.mp4\n",
      "ffmpeg -i seg14.mp4 -filter:v crop=320:180:320:180 output_seg_14/output14_5.mp4\n",
      "ffmpeg -i seg14.mp4 -filter:v crop=320:180:640:180 output_seg_14/output14_6.mp4\n",
      "ffmpeg -i seg14.mp4 -filter:v crop=319:179:960:180 output_seg_14/output14_7.mp4\n",
      "ffmpeg -i seg14.mp4 -filter:v crop=320:180:0:360 output_seg_14/output14_8.mp4\n",
      "ffmpeg -i seg14.mp4 -filter:v crop=320:180:320:360 output_seg_14/output14_9.mp4\n",
      "ffmpeg -i seg14.mp4 -filter:v crop=320:180:640:360 output_seg_14/output14_10.mp4\n",
      "ffmpeg -i seg14.mp4 -filter:v crop=319:179:960:360 output_seg_14/output14_11.mp4\n",
      "ffmpeg -i seg14.mp4 -filter:v crop=320:180:0:540 output_seg_14/output14_15.mp4\n",
      "ffmpeg -i seg14.mp4 -filter:v crop=320:180:320:540 output_seg_14/output14_14.mp4\n",
      "ffmpeg -i seg14.mp4 -filter:v crop=320:180:640:540 output_seg_14/output14_13.mp4\n",
      "ffmpeg -i seg14.mp4 -filter:v crop=319:179:960:540 output_seg_14/output14_12.mp4\n"
     ]
    }
   ],
   "source": [
    "\n",
    "# Cropping the whole segment in 4x4 grid\n",
    "# You can take w and h as input also\n",
    "w, h = 320, 180\n",
    "x, y = 0, 0\n",
    "c=0\n",
    "for i in range(0,3):\n",
    "    for j in range(0, 4):\n",
    "        if(x==960):\n",
    "            w = w-1\n",
    "            h = h-1\n",
    "            print('ffmpeg -i {0} -filter:v '\"crop={1}:{2}:{3}:{4}\"' output_seg_{5}/output{5}_{6}.mp4'.format(video, w, h, x, y,X,c))\n",
    "            w=w+1\n",
    "            h=h+1\n",
    "        else:\n",
    "            print('ffmpeg -i {0} -filter:v '\"crop={1}:{2}:{3}:{4}\"' output_seg_{5}/output{5}_{6}.mp4'.format(video, w, h, x, y,X,c))\n",
    "        c = c+1\n",
    "        x = x+w;\n",
    "    x=0\n",
    "    y = y+h\n",
    "\n",
    "x = 0\n",
    "y=540\n",
    "        \n",
    "for p in range(15, 11, -1):\n",
    "    if(x==960):\n",
    "        w = w-1\n",
    "        h = h-1\n",
    "        print('ffmpeg -i {0} -filter:v '\"crop={1}:{2}:{3}:{4}\"' output_seg_{5}/output{5}_{6}.mp4'.format(video, w, h, x, y,X,p))\n",
    "        w=w+1\n",
    "        h=h+1\n",
    "    else:\n",
    "        print('ffmpeg -i {0} -filter:v '\"crop={1}:{2}:{3}:{4}\"' output_seg_{5}/output{5}_{6}.mp4'.format(video, w, h, x, y,X,p))\n",
    "    x = x+w\n",
    "        "
   ]
  },
  {
   "cell_type": "code",
   "execution_count": 17,
   "metadata": {},
   "outputs": [
    {
     "name": "stdout",
     "output_type": "stream",
     "text": [
      "ffmpeg -i output14_3.mp4 -s 320x180 -c:a copy output_3.mp4\n",
      "ffmpeg -i output14_7.mp4 -s 320x180 -c:a copy output_7.mp4\n",
      "ffmpeg -i output14_11.mp4 -s 320x180 -c:a copy output_11.mp4\n"
     ]
    }
   ],
   "source": [
    "# We also have to resize boundary videos as 320x180\n",
    "# boundary videos were the ones which have 319x179 dim\n",
    "# those who are not in dark videos\n",
    "\n",
    "# cd to output_seg_X directory before running these commands\n",
    "\n",
    "resize = [3, 7, 11, 15]\n",
    "\n",
    "for i in range(0, len(resize)):\n",
    "    if resize[i] not in output_dark:\n",
    "        print(\"ffmpeg -i output{0}_{1}.mp4 -s {2}x{3} -c:a copy output_{1}.mp4\".format(X,resize[i], w, h))\n",
    "               \n",
    "#ffmpeg -i output_32_3.mp4 -s 320x180 -c:a copy output.mp4 (to resize)"
   ]
  },
  {
   "cell_type": "code",
   "execution_count": 18,
   "metadata": {},
   "outputs": [
    {
     "name": "stdout",
     "output_type": "stream",
     "text": [
      "Enter the full path to folder/Users/anjalisingh/Desktop/Segment_2/output_seg_14\n",
      "/Users/anjalisingh/Desktop/Segment_2/output_seg_14/\n"
     ]
    }
   ],
   "source": [
    "# We also have to rename output_3.mp4 to outputX_3.mp4 , all the videos that are not in dark and are in resize.\n",
    "\n",
    "import os\n",
    "\n",
    "folder = input(\"Enter the full path to folder\")\n",
    "\n",
    "folder = folder + \"/\"\n",
    "\n",
    "print(folder)"
   ]
  },
  {
   "cell_type": "code",
   "execution_count": 19,
   "metadata": {},
   "outputs": [
    {
     "name": "stdout",
     "output_type": "stream",
     "text": [
      "/Users/anjalisingh/Desktop/Segment_2/output_seg_14/output_3.mp4\n",
      "/Users/anjalisingh/Desktop/Segment_2/output_seg_14/output14_3.mp4\n",
      "/Users/anjalisingh/Desktop/Segment_2/output_seg_14/output_7.mp4\n",
      "/Users/anjalisingh/Desktop/Segment_2/output_seg_14/output14_7.mp4\n",
      "/Users/anjalisingh/Desktop/Segment_2/output_seg_14/output_11.mp4\n",
      "/Users/anjalisingh/Desktop/Segment_2/output_seg_14/output14_11.mp4\n"
     ]
    }
   ],
   "source": [
    "for i in range(0, len(resize)):\n",
    "    if resize[i] not in output_dark:\n",
    "        old = folder + \"output_{}.mp4\".format(resize[i])\n",
    "        print(old)\n",
    "\n",
    "        new = folder+ \"output{}_{}.mp4\".format(X, resize[i])\n",
    "        print(new)\n",
    "        os.rename(old,new)\n",
    "        \n",
    "# No need to copt paste these copy paste these"
   ]
  },
  {
   "cell_type": "code",
   "execution_count": 53,
   "metadata": {},
   "outputs": [
    {
     "name": "stdout",
     "output_type": "stream",
     "text": [
      "ffmpeg -t 1 -f lavfi -i color=c=black:s=320x180 -c:v libx264 -tune stillimage -pix_fmt yuv420p output14_1.mp4\n",
      "ffmpeg -t 1 -f lavfi -i color=c=black:s=320x180 -c:v libx264 -tune stillimage -pix_fmt yuv420p output14_4.mp4\n",
      "ffmpeg -t 1 -f lavfi -i color=c=black:s=320x180 -c:v libx264 -tune stillimage -pix_fmt yuv420p output14_8.mp4\n",
      "ffmpeg -t 1 -f lavfi -i color=c=black:s=320x180 -c:v libx264 -tune stillimage -pix_fmt yuv420p output14_15.mp4\n",
      "ffmpeg -t 1 -f lavfi -i color=c=black:s=320x180 -c:v libx264 -tune stillimage -pix_fmt yuv420p output14_14.mp4\n",
      "ffmpeg -t 1 -f lavfi -i color=c=black:s=320x180 -c:v libx264 -tune stillimage -pix_fmt yuv420p output14_13.mp4\n",
      "ffmpeg -t 1 -f lavfi -i color=c=black:s=320x180 -c:v libx264 -tune stillimage -pix_fmt yuv420p output14_12.mp4\n"
     ]
    }
   ],
   "source": [
    "# Delete the videos in output_dark as we will be creating a dark video for them with the same name\n",
    "\n",
    "for i in range(0, len(output_dark)):\n",
    "    print(\"ffmpeg -t {0} -f lavfi -i color=c=black:s={3}x{4} -c:v libx264 -tune stillimage -pix_fmt yuv420p output{1}_{2}.mp4\".format(sec, X, output_dark[i], w, h))\n",
    "    "
   ]
  },
  {
   "cell_type": "code",
   "execution_count": 55,
   "metadata": {},
   "outputs": [
    {
     "name": "stdout",
     "output_type": "stream",
     "text": [
      "ffmpeg -i output14_0.mp4 -i output14_1.mp4 -i output14_4.mp4 -i output14_5.mp4 -filter_complex \"[0:v][1:v]hstack=inputs=2[top];[2:v][3:v]hstack=inputs=2[bottom];[top][bottom]vstack=inputs=2[v]\" -map \"[v]\" finalOutput3.mp4\n",
      "\n",
      "ffmpeg -i output14_2.mp4 -i output14_3.mp4 -i output14_6.mp4 -i output14_7.mp4 -filter_complex \"[0:v][1:v]hstack=inputs=2[top];[2:v][3:v]hstack=inputs=2[bottom];[top][bottom]vstack=inputs=2[v]\" -map \"[v]\" finalOutput4.mp4\n",
      "\n",
      "ffmpeg -i output14_8.mp4 -i output14_9.mp4 -i output14_15.mp4 -i output14_14.mp4 -filter_complex \"[0:v][1:v]hstack=inputs=2[top];[2:v][3:v]hstack=inputs=2[bottom];[top][bottom]vstack=inputs=2[v]\" -map \"[v]\" finalOutput1.mp4\n",
      "\n",
      "ffmpeg -i output14_10.mp4 -i output14_11.mp4 -i output14_13.mp4 -i output14_12.mp4 -filter_complex \"[0:v][1:v]hstack=inputs=2[top];[2:v][3:v]hstack=inputs=2[bottom];[top][bottom]vstack=inputs=2[v]\" -map \"[v]\" finalOutput2.mp4\n",
      "\n",
      "ffmpeg -i finalOutput3.mp4 -i finalOutput4.mp4 -i finalOutput1.mp4 -i finalOutput2.mp4 -filter_complex \"[0:v][1:v]hstack=inputs=2[top];[2:v][3:v]hstack=inputs=2[bottom];[top][bottom]vstack=inputs=2[v]\" -map \"[v]\" finalOutput_1.mp4\n"
     ]
    }
   ],
   "source": [
    "# Now we have to put back all the segments together with the help of hstack/vstack\n",
    "\n",
    "\n",
    "print('ffmpeg -i output{0}_0.mp4 -i output{0}_1.mp4 -i output{0}_4.mp4 -i output{0}_5.mp4 -filter_complex \"[0:v][1:v]hstack=inputs=2[top];[2:v][3:v]hstack=inputs=2[bottom];[top][bottom]vstack=inputs=2[v]\" -map \"[v]\" finalOutput3.mp4'\n",
    "          .format(X))\n",
    "\n",
    "print()\n",
    "\n",
    "print('ffmpeg -i output{0}_2.mp4 -i output{0}_3.mp4 -i output{0}_6.mp4 -i output{0}_7.mp4 -filter_complex \"[0:v][1:v]hstack=inputs=2[top];[2:v][3:v]hstack=inputs=2[bottom];[top][bottom]vstack=inputs=2[v]\" -map \"[v]\" finalOutput4.mp4'\n",
    "          .format(X))\n",
    "\n",
    "print()\n",
    "\n",
    "print('ffmpeg -i output{0}_8.mp4 -i output{0}_9.mp4 -i output{0}_15.mp4 -i output{0}_14.mp4 -filter_complex \"[0:v][1:v]hstack=inputs=2[top];[2:v][3:v]hstack=inputs=2[bottom];[top][bottom]vstack=inputs=2[v]\" -map \"[v]\" finalOutput1.mp4'\n",
    "          .format(X))\n",
    "print()\n",
    "print('ffmpeg -i output{0}_10.mp4 -i output{0}_11.mp4 -i output{0}_13.mp4 -i output{0}_12.mp4 -filter_complex \"[0:v][1:v]hstack=inputs=2[top];[2:v][3:v]hstack=inputs=2[bottom];[top][bottom]vstack=inputs=2[v]\" -map \"[v]\" finalOutput2.mp4'\n",
    "          .format(X))\n",
    "# Now put all 4 parts together\n",
    "\n",
    "print()\n",
    "print('ffmpeg -i finalOutput3.mp4 -i finalOutput4.mp4 -i finalOutput1.mp4 -i finalOutput2.mp4 -filter_complex \"[0:v][1:v]hstack=inputs=2[top];[2:v][3:v]hstack=inputs=2[bottom];[top][bottom]vstack=inputs=2[v]\" -map \"[v]\" finalOutput_1.mp4')\n",
    "\n"
   ]
  },
  {
   "cell_type": "code",
   "execution_count": null,
   "metadata": {},
   "outputs": [],
   "source": []
  },
  {
   "cell_type": "code",
   "execution_count": null,
   "metadata": {},
   "outputs": [],
   "source": []
  }
 ],
 "metadata": {
  "kernelspec": {
   "display_name": "Python 3",
   "language": "python",
   "name": "python3"
  },
  "language_info": {
   "codemirror_mode": {
    "name": "ipython",
    "version": 3
   },
   "file_extension": ".py",
   "mimetype": "text/x-python",
   "name": "python",
   "nbconvert_exporter": "python",
   "pygments_lexer": "ipython3",
   "version": "3.7.7"
  }
 },
 "nbformat": 4,
 "nbformat_minor": 4
}
