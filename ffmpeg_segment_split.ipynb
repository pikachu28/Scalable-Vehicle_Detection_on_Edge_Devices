{
 "cells": [
  {
   "cell_type": "code",
   "execution_count": 1,
   "metadata": {},
   "outputs": [],
   "source": [
    "# Please keep the format of the file as segX.mp4"
   ]
  },
  {
   "cell_type": "code",
   "execution_count": 2,
   "metadata": {},
   "outputs": [
    {
     "name": "stdout",
     "output_type": "stream",
     "text": [
      "Enter the name of the segment fileseg30.mp4\n"
     ]
    }
   ],
   "source": [
    "file = input(\"Enter the name of the segment file\")"
   ]
  },
  {
   "cell_type": "code",
   "execution_count": 3,
   "metadata": {},
   "outputs": [
    {
     "data": {
      "text/plain": [
       "'30'"
      ]
     },
     "execution_count": 3,
     "metadata": {},
     "output_type": "execute_result"
    }
   ],
   "source": [
    "file\n",
    "\n",
    "X = file.split('.')[0]\n",
    "X = X[-2:]\n",
    "X"
   ]
  },
  {
   "cell_type": "code",
   "execution_count": 4,
   "metadata": {},
   "outputs": [],
   "source": [
    "import os\n",
    "\n",
    "os.mkdir('/Users/anjalisingh/Desktop/segment/output_seg_{0}'.format(X))"
   ]
  },
  {
   "cell_type": "code",
   "execution_count": 5,
   "metadata": {},
   "outputs": [
    {
     "name": "stdout",
     "output_type": "stream",
     "text": [
      "ffmpeg -i seg30.mp4 -filter:v crop=320:180:0:0 output_seg_30/output30_0.mp4\n",
      "ffmpeg -i seg30.mp4 -filter:v crop=320:180:320:0 output_seg_30/output30_1.mp4\n",
      "ffmpeg -i seg30.mp4 -filter:v crop=320:180:640:0 output_seg_30/output30_2.mp4\n",
      "ffmpeg -i seg30.mp4 -filter:v crop=319:179:960:0 output_seg_30/output30_3.mp4\n",
      "ffmpeg -i seg30.mp4 -filter:v crop=320:180:0:180 output_seg_30/output30_4.mp4\n",
      "ffmpeg -i seg30.mp4 -filter:v crop=320:180:320:180 output_seg_30/output30_5.mp4\n",
      "ffmpeg -i seg30.mp4 -filter:v crop=320:180:640:180 output_seg_30/output30_6.mp4\n",
      "ffmpeg -i seg30.mp4 -filter:v crop=319:179:960:180 output_seg_30/output30_7.mp4\n",
      "ffmpeg -i seg30.mp4 -filter:v crop=320:180:0:360 output_seg_30/output30_8.mp4\n",
      "ffmpeg -i seg30.mp4 -filter:v crop=320:180:320:360 output_seg_30/output30_9.mp4\n",
      "ffmpeg -i seg30.mp4 -filter:v crop=320:180:640:360 output_seg_30/output30_10.mp4\n",
      "ffmpeg -i seg30.mp4 -filter:v crop=319:179:960:360 output_seg_30/output30_11.mp4\n",
      "ffmpeg -i seg30.mp4 -filter:v crop=320:180:0:540 output_seg_30/output30_12.mp4\n",
      "ffmpeg -i seg30.mp4 -filter:v crop=320:180:320:540 output_seg_30/output30_13.mp4\n",
      "ffmpeg -i seg30.mp4 -filter:v crop=320:180:640:540 output_seg_30/output30_14.mp4\n",
      "ffmpeg -i seg30.mp4 -filter:v crop=319:179:960:540 output_seg_30/output30_15.mp4\n"
     ]
    }
   ],
   "source": [
    "# Cropping the whole segment in 4x4 grid\n",
    "# You can take w and h as input also\n",
    "w, h = 320, 180\n",
    "x, y = 0, 0\n",
    "c=0\n",
    "for i in range(0,4):\n",
    "    for j in range(0, 4):\n",
    "        if(x==960):\n",
    "            w = w-1\n",
    "            h = h-1\n",
    "            print('ffmpeg -i {0} -filter:v '\"crop={1}:{2}:{3}:{4}\"' output_seg_{5}/output{5}_{6}.mp4'.format(file, w, h, x, y,X,c))\n",
    "            w=w+1\n",
    "            h=h+1\n",
    "        else:\n",
    "            print('ffmpeg -i {0} -filter:v '\"crop={1}:{2}:{3}:{4}\"' output_seg_{5}/output{5}_{6}.mp4'.format(file, w, h, x, y,X,c))\n",
    "        c = c+1\n",
    "        x = x+w;\n",
    "    x=0\n",
    "    y = y+h\n",
    "        \n",
    "        "
   ]
  },
  {
   "cell_type": "code",
   "execution_count": 6,
   "metadata": {},
   "outputs": [
    {
     "name": "stdout",
     "output_type": "stream",
     "text": [
      "Enter the number of dark videos to be generated14\n",
      "How long?1\n"
     ]
    }
   ],
   "source": [
    "dark = int(input(\"Enter the number of dark videos to be generated\"))\n",
    "sec = input(\"How long?\")"
   ]
  },
  {
   "cell_type": "code",
   "execution_count": 7,
   "metadata": {},
   "outputs": [
    {
     "data": {
      "text/plain": [
       "(14, '1')"
      ]
     },
     "execution_count": 7,
     "metadata": {},
     "output_type": "execute_result"
    }
   ],
   "source": [
    "dark, sec"
   ]
  },
  {
   "cell_type": "code",
   "execution_count": 8,
   "metadata": {},
   "outputs": [
    {
     "name": "stdout",
     "output_type": "stream",
     "text": [
      "enter the number of the video you want to be dark\n",
      "0\n",
      "1\n",
      "2\n",
      "3\n",
      "4\n",
      "5\n",
      "6\n",
      "8\n",
      "9\n",
      "10\n",
      "12\n",
      "13\n",
      "14\n",
      "15\n",
      "[0, 1, 2, 3, 4, 5, 6, 8, 9, 10, 12, 13, 14, 15]\n"
     ]
    }
   ],
   "source": [
    "output_dark = []\n",
    "\n",
    "print(\"enter the number of the video you want to be dark\")\n",
    "\n",
    "# iterating till the range\n",
    "for i in range(0, dark):\n",
    "    ele = int(input())\n",
    "  \n",
    "    output_dark.append(ele) # adding the element\n",
    "      \n",
    "print(output_dark)"
   ]
  },
  {
   "cell_type": "code",
   "execution_count": 9,
   "metadata": {},
   "outputs": [
    {
     "name": "stdout",
     "output_type": "stream",
     "text": [
      "ffmpeg -i output30_7.mp4 -s 320x180 -c:a copy output_7.mp4\n",
      "ffmpeg -i output30_11.mp4 -s 320x180 -c:a copy output_11.mp4\n"
     ]
    }
   ],
   "source": [
    "# We also have to resize boundary videos as 320x180\n",
    "# boundary videos were the ones which have 319x179 dim\n",
    "# those who are not in dark videos\n",
    "\n",
    "# cd to output_seg_X directory before running these commands\n",
    "\n",
    "resize = [3, 7, 11, 15]\n",
    "\n",
    "for i in range(0, len(resize)):\n",
    "    if resize[i] not in output_dark:\n",
    "        print(\"ffmpeg -i output{0}_{1}.mp4 -s {2}x{3} -c:a copy output_{1}.mp4\".format(X,resize[i], w, h))\n",
    "               \n",
    "#ffmpeg -i output_32_3.mp4 -s 320x180 -c:a copy output.mp4 (to resize)"
   ]
  },
  {
   "cell_type": "code",
   "execution_count": 13,
   "metadata": {},
   "outputs": [
    {
     "name": "stdout",
     "output_type": "stream",
     "text": [
      "Enter the full path to folder/Users/anjalisingh/Desktop/segment/output_seg_30\n",
      "/Users/anjalisingh/Desktop/segment/output_seg_30/\n"
     ]
    }
   ],
   "source": [
    "# We also have to rename output_3.mp4 to outputX_3.mp4 , all the videos that are not in dark and are in resize.\n",
    "\n",
    "import os\n",
    "\n",
    "folder = input(\"Enter the full path to folder\")\n",
    "\n",
    "folder = folder + \"/\"\n",
    "\n",
    "print(folder)"
   ]
  },
  {
   "cell_type": "code",
   "execution_count": 12,
   "metadata": {},
   "outputs": [
    {
     "name": "stdout",
     "output_type": "stream",
     "text": [
      "/Users/anjalisingh/Desktop/segment/output_seg_30//output_7.mp4\n",
      "/Users/anjalisingh/Desktop/segment/output_seg_30//output30_7.mp4\n",
      "/Users/anjalisingh/Desktop/segment/output_seg_30//output_11.mp4\n",
      "/Users/anjalisingh/Desktop/segment/output_seg_30//output30_11.mp4\n"
     ]
    }
   ],
   "source": [
    "for i in range(0, len(resize)):\n",
    "    if resize[i] not in output_dark:\n",
    "        old = folder + \"output_{}.mp4\".format(resize[i])\n",
    "        print(old)\n",
    "\n",
    "        new = folder+ \"output{}_{}.mp4\".format(X, resize[i])\n",
    "        print(new)\n",
    "        os.rename(old,new)\n",
    "        \n",
    "# No need to copt paste these copy paste these"
   ]
  },
  {
   "cell_type": "code",
   "execution_count": 14,
   "metadata": {},
   "outputs": [
    {
     "name": "stdout",
     "output_type": "stream",
     "text": [
      "ffmpeg -t 1 -f lavfi -i color=c=black:s=320x180 -c:v libx264 -tune stillimage -pix_fmt yuv420p output30_0.mp4\n",
      "ffmpeg -t 1 -f lavfi -i color=c=black:s=320x180 -c:v libx264 -tune stillimage -pix_fmt yuv420p output30_1.mp4\n",
      "ffmpeg -t 1 -f lavfi -i color=c=black:s=320x180 -c:v libx264 -tune stillimage -pix_fmt yuv420p output30_2.mp4\n",
      "ffmpeg -t 1 -f lavfi -i color=c=black:s=320x180 -c:v libx264 -tune stillimage -pix_fmt yuv420p output30_3.mp4\n",
      "ffmpeg -t 1 -f lavfi -i color=c=black:s=320x180 -c:v libx264 -tune stillimage -pix_fmt yuv420p output30_4.mp4\n",
      "ffmpeg -t 1 -f lavfi -i color=c=black:s=320x180 -c:v libx264 -tune stillimage -pix_fmt yuv420p output30_5.mp4\n",
      "ffmpeg -t 1 -f lavfi -i color=c=black:s=320x180 -c:v libx264 -tune stillimage -pix_fmt yuv420p output30_6.mp4\n",
      "ffmpeg -t 1 -f lavfi -i color=c=black:s=320x180 -c:v libx264 -tune stillimage -pix_fmt yuv420p output30_8.mp4\n",
      "ffmpeg -t 1 -f lavfi -i color=c=black:s=320x180 -c:v libx264 -tune stillimage -pix_fmt yuv420p output30_9.mp4\n",
      "ffmpeg -t 1 -f lavfi -i color=c=black:s=320x180 -c:v libx264 -tune stillimage -pix_fmt yuv420p output30_10.mp4\n",
      "ffmpeg -t 1 -f lavfi -i color=c=black:s=320x180 -c:v libx264 -tune stillimage -pix_fmt yuv420p output30_12.mp4\n",
      "ffmpeg -t 1 -f lavfi -i color=c=black:s=320x180 -c:v libx264 -tune stillimage -pix_fmt yuv420p output30_13.mp4\n",
      "ffmpeg -t 1 -f lavfi -i color=c=black:s=320x180 -c:v libx264 -tune stillimage -pix_fmt yuv420p output30_14.mp4\n",
      "ffmpeg -t 1 -f lavfi -i color=c=black:s=320x180 -c:v libx264 -tune stillimage -pix_fmt yuv420p output30_15.mp4\n"
     ]
    }
   ],
   "source": [
    "# Delete the videos in output_dark as we will be creating a dark video for them with the same name\n",
    "\n",
    "for i in range(0, dark):\n",
    "    print(\"ffmpeg -t {0} -f lavfi -i color=c=black:s={3}x{4} -c:v libx264 -tune stillimage -pix_fmt yuv420p output{1}_{2}.mp4\".format(sec, X, output_dark[i], w, h))\n",
    "    "
   ]
  },
  {
   "cell_type": "code",
   "execution_count": 116,
   "metadata": {},
   "outputs": [
    {
     "name": "stdout",
     "output_type": "stream",
     "text": [
      "ffmpeg -i output30_0.mp4 -i output30_1.mp4 -i output30_4.mp4 -i output30_5.mp4 -filter_complex \"[0:v][1:v]hstack=inputs=2[top];[2:v][3:v]hstack=inputs=2[bottom];[top][bottom]vstack=inputs=2[v]\" -map \"[v]\" finalOutput1.mp4\n",
      "\n",
      "ffmpeg -i output30_2.mp4 -i output30_3.mp4 -i output30_6.mp4 -i output30_7.mp4 -filter_complex \"[0:v][1:v]hstack=inputs=2[top];[2:v][3:v]hstack=inputs=2[bottom];[top][bottom]vstack=inputs=2[v]\" -map \"[v]\" finalOutput2.mp4\n",
      "\n",
      "ffmpeg -i output30_8.mp4 -i output30_9.mp4 -i output30_12.mp4 -i output30_13.mp4 -filter_complex \"[0:v][1:v]hstack=inputs=2[top];[2:v][3:v]hstack=inputs=2[bottom];[top][bottom]vstack=inputs=2[v]\" -map \"[v]\" finalOutput3.mp4\n",
      "\n",
      "ffmpeg -i output30_10.mp4 -i output30_11.mp4 -i output30_14.mp4 -i output30_15.mp4 -filter_complex \"[0:v][1:v]hstack=inputs=2[top];[2:v][3:v]hstack=inputs=2[bottom];[top][bottom]vstack=inputs=2[v]\" -map \"[v]\" finalOutput4.mp4\n",
      "\n",
      "ffmpeg -i finalOutput1.mp4 -i finalOutput2.mp4 -i finalOutput3.mp4 -i finalOutput4.mp4 -filter_complex \"[0:v][1:v]hstack=inputs=2[top];[2:v][3:v]hstack=inputs=2[bottom];[top][bottom]vstack=inputs=2[v]\" -map \"[v]\" finalOutput.mp4\n"
     ]
    }
   ],
   "source": [
    "# Now we have to put back all the segments together with the help of hstack/vstack\n",
    "\n",
    "# Since we divided it into 4x4 grid\n",
    "\n",
    "grid = 4\n",
    "\n",
    "# A = [0, 2, 8, 10]\n",
    "# B=A+1\n",
    "# C=A+4\n",
    "# D=C+1\n",
    "\n",
    "A = [0, 2, 8, 10]\n",
    "\n",
    "for i in range(1, grid+1):\n",
    "    print('ffmpeg -i output{0}_{2}.mp4 -i output{0}_{3}.mp4 -i output{0}_{4}.mp4 -i output{0}_{5}.mp4 -filter_complex \"[0:v][1:v]hstack=inputs=2[top];[2:v][3:v]hstack=inputs=2[bottom];[top][bottom]vstack=inputs=2[v]\" -map \"[v]\" finalOutput{1}.mp4'\n",
    "          .format(X, i, A[i-1], A[i-1]+1, A[i-1]+4, A[i-1]+5))\n",
    "    print()\n",
    "    \n",
    "# Now put all 4 parts together\n",
    "\n",
    "\n",
    "print('ffmpeg -i finalOutput1.mp4 -i finalOutput2.mp4 -i finalOutput3.mp4 -i finalOutput4.mp4 -filter_complex \"[0:v][1:v]hstack=inputs=2[top];[2:v][3:v]hstack=inputs=2[bottom];[top][bottom]vstack=inputs=2[v]\" -map \"[v]\" finalOutput.mp4')\n",
    "\n"
   ]
  },
  {
   "cell_type": "code",
   "execution_count": null,
   "metadata": {},
   "outputs": [],
   "source": []
  }
 ],
 "metadata": {
  "kernelspec": {
   "display_name": "Python 3",
   "language": "python",
   "name": "python3"
  },
  "language_info": {
   "codemirror_mode": {
    "name": "ipython",
    "version": 3
   },
   "file_extension": ".py",
   "mimetype": "text/x-python",
   "name": "python",
   "nbconvert_exporter": "python",
   "pygments_lexer": "ipython3",
   "version": "3.7.7"
  }
 },
 "nbformat": 4,
 "nbformat_minor": 4
}
